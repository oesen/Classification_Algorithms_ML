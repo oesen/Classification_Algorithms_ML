{
  "nbformat": 4,
  "nbformat_minor": 0,
  "metadata": {
    "colab": {
      "name": "K-NN_Iris_Dataset.ipynb",
      "provenance": [],
      "collapsed_sections": []
    },
    "kernelspec": {
      "name": "python3",
      "display_name": "Python 3"
    }
  },
  "cells": [
    {
      "cell_type": "markdown",
      "metadata": {
        "id": "h8cQHjJgPNUa",
        "colab_type": "text"
      },
      "source": [
        "# K Nearest Neighbors Classification (K-NN)"
      ]
    },
    {
      "cell_type": "code",
      "metadata": {
        "id": "6sJmO0XcPUTX",
        "colab_type": "code",
        "colab": {}
      },
      "source": [
        "# Importing Libraries and Data Set\n",
        "import pandas as pd\n",
        "import numpy as np\n",
        "import matplotlib.pyplot as plt\n",
        "import matplotlib.patches as mp\n",
        "import seaborn as sns\n",
        "iris = sns.load_dataset('iris')"
      ],
      "execution_count": null,
      "outputs": []
    },
    {
      "cell_type": "markdown",
      "metadata": {
        "id": "Wh1JiM0KPhkc",
        "colab_type": "text"
      },
      "source": [
        "## Defining new X and Y"
      ]
    },
    {
      "cell_type": "code",
      "metadata": {
        "id": "NQRarbQSPq6C",
        "colab_type": "code",
        "colab": {}
      },
      "source": [
        "# Defining new X and Y\n",
        "x = iris.iloc[:, :-1].values\n",
        "y = iris.iloc[:, -1].values"
      ],
      "execution_count": null,
      "outputs": []
    },
    {
      "cell_type": "markdown",
      "metadata": {
        "id": "CnX3iNYVPtNo",
        "colab_type": "text"
      },
      "source": [
        "## Splitting the Data Set into the Training and Test Set"
      ]
    },
    {
      "cell_type": "code",
      "metadata": {
        "id": "iYcIX8QMPycF",
        "colab_type": "code",
        "colab": {}
      },
      "source": [
        "from sklearn.model_selection import train_test_split\n",
        "x_train, x_test, y_train, y_test = train_test_split(x, y, test_size = 0.25)"
      ],
      "execution_count": null,
      "outputs": []
    },
    {
      "cell_type": "markdown",
      "metadata": {
        "id": "qssghdimP0-6",
        "colab_type": "text"
      },
      "source": [
        "## Feature Scalling"
      ]
    },
    {
      "cell_type": "code",
      "metadata": {
        "id": "FRhAa1n1P3jK",
        "colab_type": "code",
        "colab": {}
      },
      "source": [
        "from sklearn.preprocessing import StandardScaler\n",
        "sc = StandardScaler()\n",
        "x_train = sc.fit_transform(x_train)\n",
        "x_test = sc.transform(x_test)"
      ],
      "execution_count": null,
      "outputs": []
    },
    {
      "cell_type": "markdown",
      "metadata": {
        "id": "gDAWol94P7Wq",
        "colab_type": "text"
      },
      "source": [
        "## Training the K-NN Model on the Training Set"
      ]
    },
    {
      "cell_type": "code",
      "metadata": {
        "id": "X79OF-6tP83o",
        "colab_type": "code",
        "colab": {}
      },
      "source": [
        "from sklearn.neighbors import KNeighborsClassifier\n",
        "classifier = KNeighborsClassifier(n_neighbors = 5, algorithm = 'auto', metric = 'minkowski', p = 2)\n",
        "classifier.fit(x_train, y_train)"
      ],
      "execution_count": null,
      "outputs": []
    },
    {
      "cell_type": "markdown",
      "metadata": {
        "id": "0VojcI4aP_vU",
        "colab_type": "text"
      },
      "source": [
        "## Predicting a Particular Result"
      ]
    },
    {
      "cell_type": "code",
      "metadata": {
        "id": "W2F_rV-6QI50",
        "colab_type": "code",
        "colab": {}
      },
      "source": [
        "print(classifier.predict(sc.transform([[5,2,1,0.9]])))"
      ],
      "execution_count": null,
      "outputs": []
    },
    {
      "cell_type": "markdown",
      "metadata": {
        "id": "tBLxYEEWQLRY",
        "colab_type": "text"
      },
      "source": [
        "## Predicting the Results of Test Set"
      ]
    },
    {
      "cell_type": "code",
      "metadata": {
        "id": "P8vFY3s2QN69",
        "colab_type": "code",
        "colab": {}
      },
      "source": [
        "y_pred = classifier.predict(x_test)\n",
        "print(np.concatenate((y_pred.reshape(len(y_pred),1), y_test.reshape(len(y_test),1)),1))"
      ],
      "execution_count": null,
      "outputs": []
    },
    {
      "cell_type": "markdown",
      "metadata": {
        "id": "-wn8OFUaQROn",
        "colab_type": "text"
      },
      "source": [
        "## Confusion Matrix and Accuracy"
      ]
    },
    {
      "cell_type": "code",
      "metadata": {
        "id": "pB3_6nVPQXSK",
        "colab_type": "code",
        "colab": {
          "base_uri": "https://localhost:8080/",
          "height": 84
        },
        "outputId": "ba0064e7-ff2d-4f38-faee-64f993d8d7a7"
      },
      "source": [
        "from sklearn.metrics import confusion_matrix, accuracy_score\n",
        "cm = confusion_matrix(y_test, y_pred)\n",
        "print(cm)\n",
        "accuracy_score(y_test, y_pred)"
      ],
      "execution_count": null,
      "outputs": [
        {
          "output_type": "stream",
          "text": [
            "[[13  0  0]\n",
            " [ 0 10  1]\n",
            " [ 0  1 13]]\n"
          ],
          "name": "stdout"
        },
        {
          "output_type": "execute_result",
          "data": {
            "text/plain": [
              "0.9473684210526315"
            ]
          },
          "metadata": {
            "tags": []
          },
          "execution_count": 69
        }
      ]
    }
  ]
}