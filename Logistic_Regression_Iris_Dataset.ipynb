{
  "nbformat": 4,
  "nbformat_minor": 0,
  "metadata": {
    "colab": {
      "name": "Logistic_Regression_Iris_Dataset.ipynb",
      "provenance": [],
      "collapsed_sections": []
    },
    "kernelspec": {
      "name": "python3",
      "display_name": "Python 3"
    }
  },
  "cells": [
    {
      "cell_type": "markdown",
      "metadata": {
        "id": "u11U48mJD5kp",
        "colab_type": "text"
      },
      "source": [
        "# Logistic Regression Classification"
      ]
    },
    {
      "cell_type": "markdown",
      "metadata": {
        "id": "_n8Uk1SpK8mU",
        "colab_type": "text"
      },
      "source": [
        "## Importing Libraries & Data Set"
      ]
    },
    {
      "cell_type": "code",
      "metadata": {
        "id": "bsacggwDDruO",
        "colab_type": "code",
        "colab": {}
      },
      "source": [
        "# Importing Libraries and Data Set\n",
        "import pandas as pd\n",
        "import numpy as np\n",
        "import matplotlib.pyplot as plt\n",
        "import seaborn as sns\n",
        "iris = sns.load_dataset('iris')"
      ],
      "execution_count": 6,
      "outputs": []
    },
    {
      "cell_type": "markdown",
      "metadata": {
        "id": "riCWNFZMLGCa",
        "colab_type": "text"
      },
      "source": [
        "## Defining X and Y values and Splitting the Data Set into Training and Test Sets"
      ]
    },
    {
      "cell_type": "code",
      "metadata": {
        "id": "ESxkXB5BDuGO",
        "colab_type": "code",
        "colab": {}
      },
      "source": [
        "# Defining new X and Y\n",
        "x = iris.iloc[:, :-1].values\n",
        "y = iris.iloc[:, -1].values"
      ],
      "execution_count": 4,
      "outputs": []
    },
    {
      "cell_type": "code",
      "metadata": {
        "id": "ObxBCCnuDv3d",
        "colab_type": "code",
        "colab": {}
      },
      "source": [
        "from sklearn.model_selection import train_test_split\n",
        "x_train, x_test, y_train, y_test = train_test_split(x, y, test_size = 0.25, random_state = 1)"
      ],
      "execution_count": 8,
      "outputs": []
    },
    {
      "cell_type": "markdown",
      "metadata": {
        "id": "kP4sI2osMjyX",
        "colab_type": "text"
      },
      "source": [
        "## Feature Scaling"
      ]
    },
    {
      "cell_type": "code",
      "metadata": {
        "id": "jJUYbNYGL_JA",
        "colab_type": "code",
        "colab": {}
      },
      "source": [
        "from sklearn.preprocessing import StandardScaler\n",
        "sc = StandardScaler()\n",
        "x_train = sc.fit_transform(x_train)\n",
        "x_test = sc.transform(x_test)"
      ],
      "execution_count": 12,
      "outputs": []
    },
    {
      "cell_type": "markdown",
      "metadata": {
        "id": "fu1o6_J2M456",
        "colab_type": "text"
      },
      "source": [
        "## Training the Logistic Regression Model on the Training Set"
      ]
    },
    {
      "cell_type": "code",
      "metadata": {
        "id": "IJOg1X2kNB12",
        "colab_type": "code",
        "colab": {}
      },
      "source": [
        "from sklearn.linear_model import LogisticRegression\n",
        "classifier = LogisticRegression(random_state=1)\n",
        "classifier.fit(x_train,y_train)"
      ],
      "execution_count": null,
      "outputs": []
    },
    {
      "cell_type": "markdown",
      "metadata": {
        "id": "CyRGTFoWN84Q",
        "colab_type": "text"
      },
      "source": [
        "## Predicting a particular Result"
      ]
    },
    {
      "cell_type": "code",
      "metadata": {
        "id": "Jts5lmK4OB6S",
        "colab_type": "code",
        "colab": {}
      },
      "source": [
        "print(classifier.predict(sc.transform([[15,1.7,5,2]])))"
      ],
      "execution_count": null,
      "outputs": []
    },
    {
      "cell_type": "markdown",
      "metadata": {
        "id": "cDCgfRu1RGzJ",
        "colab_type": "text"
      },
      "source": [
        "## Predicting the Test Set Results"
      ]
    },
    {
      "cell_type": "code",
      "metadata": {
        "id": "U5JNI5YkRLUg",
        "colab_type": "code",
        "colab": {}
      },
      "source": [
        "y_predict = classifier.predict(x_test)\n",
        "print(np.concatenate((y_predict.reshape(len(y_predict),1),y_test.reshape(len(y_test),1)),1))"
      ],
      "execution_count": null,
      "outputs": []
    },
    {
      "cell_type": "markdown",
      "metadata": {
        "id": "E1aZqRooSC0e",
        "colab_type": "text"
      },
      "source": [
        "## Confusion Matrix and Accuracy"
      ]
    },
    {
      "cell_type": "code",
      "metadata": {
        "id": "H3VoGh1eSGXr",
        "colab_type": "code",
        "colab": {
          "base_uri": "https://localhost:8080/",
          "height": 84
        },
        "outputId": "dd22446b-475c-443b-dc01-e86c7983bc67"
      },
      "source": [
        "from sklearn.metrics import confusion_matrix, accuracy_score\n",
        "cm = confusion_matrix(y_test, y_predict)\n",
        "print(cm)\n",
        "accuracy_score(y_test,y_predict)"
      ],
      "execution_count": 30,
      "outputs": [
        {
          "output_type": "stream",
          "text": [
            "[[13  0  0]\n",
            " [ 0 15  1]\n",
            " [ 0  0  9]]\n"
          ],
          "name": "stdout"
        },
        {
          "output_type": "execute_result",
          "data": {
            "text/plain": [
              "0.9736842105263158"
            ]
          },
          "metadata": {
            "tags": []
          },
          "execution_count": 30
        }
      ]
    }
  ]
}