{
  "nbformat": 4,
  "nbformat_minor": 0,
  "metadata": {
    "colab": {
      "name": "Visualisation_LR(Sepal Length vs. Width).ipynb",
      "provenance": [],
      "collapsed_sections": []
    },
    "kernelspec": {
      "name": "python3",
      "display_name": "Python 3"
    }
  },
  "cells": [
    {
      "cell_type": "markdown",
      "metadata": {
        "id": "UpKejliInPv9",
        "colab_type": "text"
      },
      "source": [
        "# Visualisation of the Training&Test Sets Results of Logistic Regression Model (Sepal Length vs. Width)"
      ]
    },
    {
      "cell_type": "markdown",
      "metadata": {
        "id": "jfJ3Tkeumj2e",
        "colab_type": "text"
      },
      "source": [
        "## Importing Libraries & Data Set"
      ]
    },
    {
      "cell_type": "code",
      "metadata": {
        "id": "_8W0w_uCipwS",
        "colab_type": "code",
        "colab": {}
      },
      "source": [
        "# Importing Libraries and Data Set\n",
        "import pandas as pd\n",
        "import numpy as np\n",
        "import seaborn as sns\n",
        "iris = sns.load_dataset('iris')"
      ],
      "execution_count": 16,
      "outputs": []
    },
    {
      "cell_type": "markdown",
      "metadata": {
        "id": "mSw-Wy7tmkLu",
        "colab_type": "text"
      },
      "source": [
        "## Data Preprocessing"
      ]
    },
    {
      "cell_type": "code",
      "metadata": {
        "id": "soLOMbTViuL6",
        "colab_type": "code",
        "colab": {}
      },
      "source": [
        "# Defining new X and Y\n",
        "x = iris.iloc[:, 0:2].values\n",
        "y = iris.iloc[:, -1].values\n",
        "# Encoding the dependent variable\n",
        "from sklearn.preprocessing import LabelEncoder\n",
        "le = LabelEncoder()\n",
        "y = le.fit_transform (y)\n",
        "# Splitting the Data\n",
        "from sklearn.model_selection import train_test_split\n",
        "x_train, x_test, y_train, y_test = train_test_split(x, y, test_size = 0.25, random_state = 1)"
      ],
      "execution_count": 17,
      "outputs": []
    },
    {
      "cell_type": "code",
      "metadata": {
        "id": "xYSMINIji5cv",
        "colab_type": "code",
        "colab": {}
      },
      "source": [
        "# Feature Scalling\n",
        "from sklearn.preprocessing import StandardScaler\n",
        "sc = StandardScaler()\n",
        "x_train = sc.fit_transform(x_train)\n",
        "x_test = sc.transform(x_test)"
      ],
      "execution_count": 18,
      "outputs": []
    },
    {
      "cell_type": "markdown",
      "metadata": {
        "id": "pkOZfI_rmyi8",
        "colab_type": "text"
      },
      "source": [
        "## Training the Model"
      ]
    },
    {
      "cell_type": "code",
      "metadata": {
        "id": "1xSHHb-Ui9fc",
        "colab_type": "code",
        "colab": {}
      },
      "source": [
        "# Training the Model\n",
        "from sklearn.linear_model import LogisticRegression\n",
        "classifier = LogisticRegression(random_state=1)\n",
        "classifier.fit(x_train,y_train)"
      ],
      "execution_count": null,
      "outputs": []
    },
    {
      "cell_type": "markdown",
      "metadata": {
        "id": "MuJm_MRhm5bA",
        "colab_type": "text"
      },
      "source": [
        "## Visualisation of the Results of Training&Test Sets for Sepal Length and Sepal Width Features"
      ]
    },
    {
      "cell_type": "code",
      "metadata": {
        "id": "c7Q96rGMjBys",
        "colab_type": "code",
        "colab": {
          "base_uri": "https://localhost:8080/",
          "height": 365
        },
        "outputId": "67bc2e0e-397a-4ed5-9cec-ac782226dc39"
      },
      "source": [
        "# Visualizing Training Set (Sepal Length vs. Sepal Width)\n",
        "from matplotlib.colors import ListedColormap\n",
        "x_set, y_set= sc.inverse_transform(x_train), y_train\n",
        "x1, x2 = np.meshgrid(np.arange(start = x_set[:,0].min()-0.5, stop = x_set[:,0].max()+0.5, step = 0.1),\n",
        "                     np.arange(start = x_set[:,1].min()-0.5, stop = x_set[:,1].max()+0.5, step = 0.1))\n",
        "plt.contourf(x1,x2, classifier.predict(sc.transform(np.array([x1.ravel(), x2.ravel()]).T)).reshape(x1.shape),\n",
        "             alpha=0.6, cmap = ListedColormap(('red', 'green', 'blue')))\n",
        "plt.xlim(x1.min(),x1.max())\n",
        "plt.ylim(x2.min(),x2.max())\n",
        "for i, j in enumerate (np.unique(y_set)):\n",
        "  plt.scatter(x_set[y_set == j, 0], x_set[y_set == j, 1], c = ListedColormap(('red', 'green', 'blue'))(i), label = j)\n",
        "plt.title('Classification Training Set (Sepal Length vs. Width)')\n",
        "plt.legend()\n",
        "plt.xlabel('Sepal Length')\n",
        "plt.ylabel('Sepal Width')\n",
        "plt.show()"
      ],
      "execution_count": 22,
      "outputs": [
        {
          "output_type": "stream",
          "text": [
            "*c* argument looks like a single numeric RGB or RGBA sequence, which should be avoided as value-mapping will have precedence in case its length matches with *x* & *y*.  Please use the *color* keyword-argument or provide a 2-D array with a single row if you intend to specify the same RGB or RGBA value for all points.\n",
            "*c* argument looks like a single numeric RGB or RGBA sequence, which should be avoided as value-mapping will have precedence in case its length matches with *x* & *y*.  Please use the *color* keyword-argument or provide a 2-D array with a single row if you intend to specify the same RGB or RGBA value for all points.\n",
            "*c* argument looks like a single numeric RGB or RGBA sequence, which should be avoided as value-mapping will have precedence in case its length matches with *x* & *y*.  Please use the *color* keyword-argument or provide a 2-D array with a single row if you intend to specify the same RGB or RGBA value for all points.\n"
          ],
          "name": "stderr"
        },
        {
          "output_type": "display_data",
          "data": {
            "image/png": "[encoded data removed]",
            "text/plain": [
              "<Figure size 432x288 with 1 Axes>"
            ]
          },
          "metadata": {
            "tags": [],
            "needs_background": "light"
          }
        }
      ]
    },
    {
      "cell_type": "code",
      "metadata": {
        "id": "tgjdPlewjUiF",
        "colab_type": "code",
        "colab": {
          "base_uri": "https://localhost:8080/",
          "height": 365
        },
        "outputId": "9d2e319f-fe15-409a-e4f9-3e1889478e08"
      },
      "source": [
        "# Visualizing Test Set (Sepal Length vs. Width)\n",
        "from matplotlib.colors import ListedColormap\n",
        "x_set, y_set= sc.inverse_transform(x_test), y_test\n",
        "x1, x2 = np.meshgrid(np.arange(start = x_set[:,0].min()-0.5, stop = x_set[:,0].max()+0.5, step = 0.1),\n",
        "                     np.arange(start = x_set[:,1].min()-0.5, stop = x_set[:,1].max()+0.5, step = 0.1))\n",
        "plt.contourf(x1,x2, classifier.predict(sc.transform(np.array([x1.ravel(), x2.ravel()]).T)).reshape(x1.shape),\n",
        "             alpha=0.6, cmap = ListedColormap(('red', 'green', 'blue')))\n",
        "plt.xlim(x1.min(),x1.max())\n",
        "plt.ylim(x2.min(),x2.max())\n",
        "for i, j in enumerate (np.unique(y_set)):\n",
        "  plt.scatter(x_set[y_set == j, 0], x_set[y_set == j, 1], c = ListedColormap(('red', 'green', 'blue'))(i), label = j)\n",
        "plt.title('Classification Test Set (Sepal Length vs. Width)')\n",
        "plt.legend()\n",
        "plt.xlabel('Sepal Length')\n",
        "plt.ylabel('Sepal Width')\n",
        "plt.show()"
      ],
      "execution_count": 23,
      "outputs": [
        {
          "output_type": "stream",
          "text": [
            "*c* argument looks like a single numeric RGB or RGBA sequence, which should be avoided as value-mapping will have precedence in case its length matches with *x* & *y*.  Please use the *color* keyword-argument or provide a 2-D array with a single row if you intend to specify the same RGB or RGBA value for all points.\n",
            "*c* argument looks like a single numeric RGB or RGBA sequence, which should be avoided as value-mapping will have precedence in case its length matches with *x* & *y*.  Please use the *color* keyword-argument or provide a 2-D array with a single row if you intend to specify the same RGB or RGBA value for all points.\n",
            "*c* argument looks like a single numeric RGB or RGBA sequence, which should be avoided as value-mapping will have precedence in case its length matches with *x* & *y*.  Please use the *color* keyword-argument or provide a 2-D array with a single row if you intend to specify the same RGB or RGBA value for all points.\n"
          ],
          "name": "stderr"
        },
        {
          "output_type": "display_data",
          "data": {
            "image/png": "[encoded data removed]",
            "text/plain": [
              "<Figure size 432x288 with 1 Axes>"
            ]
          },
          "metadata": {
            "tags": [],
            "needs_background": "light"
          }
        }
      ]
    }
  ]
}